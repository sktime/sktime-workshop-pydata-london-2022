{
 "cells": [
  {
   "cell_type": "markdown",
   "id": "ba59d6b6",
   "metadata": {},
   "source": [
    "# Advanced extension patterns in `sktime`"
   ]
  },
  {
   "cell_type": "markdown",
   "id": "30e2bb9e",
   "metadata": {},
   "source": [
    "### Overview of this notebook\n",
    "\n",
    "* using the advanced extension templates\n",
    "\n",
    "    * example: forecaster with update and proba functionality\n",
    "    * a closer look at tags, internal data formats\n",
    "    * hierarchical data, automated vectorization\n",
    "    * example: min-max scaler, but across multiple series\n",
    "    * composite estimators\n",
    "    * example: MA-of-transformed-data"
   ]
  },
  {
   "cell_type": "markdown",
   "id": "a9b11894",
   "metadata": {},
   "source": [
    "\n",
    "* automated testing\n",
    "\n",
    "    * using `check_estimator` as part of a test suite\n",
    "    * using `sktime` test classes"
   ]
  },
  {
   "cell_type": "code",
   "execution_count": null,
   "id": "49d4f967",
   "metadata": {},
   "outputs": [],
   "source": [
    "import warnings\n",
    "\n",
    "warnings.filterwarnings('ignore')"
   ]
  },
  {
   "cell_type": "markdown",
   "id": "29406a39",
   "metadata": {},
   "source": [
    "### `sktime` tags explained"
   ]
  },
  {
   "cell_type": "markdown",
   "id": "6b36d2cd",
   "metadata": {},
   "source": [
    "all estimators have tags.\n",
    "\n",
    "three types of tags:\n",
    "\n",
    "* capability tags, e.g., \"has `predict_proba`\"\n",
    "* property and type tags, e.g., \"is a tree-based method\", or \"outputs series\"\n",
    "* behavioural tags, e.g., \"instruction: convert to `numpy` for inner `_fit` method\"\n",
    "\n",
    "Tag related methods, via `BaseObject`:\n",
    "* `get_tags`, `get_tag` - retrieve tag values\n",
    "* `set_tags`, `clone_tags` - set tags, *developer use only* for implementing estimators\n",
    "\n",
    "Tag values may depend on estimator parameter values!"
   ]
  },
  {
   "cell_type": "code",
   "execution_count": null,
   "id": "a115fce9",
   "metadata": {},
   "outputs": [],
   "source": [
    "# example: tags of ARIMA forecaster\n",
    "from sktime.forecasting.arima import ARIMA\n",
    "\n",
    "ARIMA().get_tags()"
   ]
  },
  {
   "cell_type": "markdown",
   "id": "17a18617",
   "metadata": {},
   "source": [
    "**Forecaster tags:**\n",
    "\n",
    "Capability tags:\n",
    "* `scitype:y`: which y are fine? univariate/multivariate/both\n",
    "* `handles-missing-data`: can the estimator handle missing data? boolean, True or False\n",
    "* `capability:pred_int`: does forecaster implement proba forecasts? boolean, True or False.\n",
    "\n",
    "Property and type tags:\n",
    "* `ignores-exogeneous-X`: does the estimator ignore the exogeneous X? boolean, True or False\n",
    "* `requires-fh-in-fit`: is the forecasting horizon already required in fit? boolean, True or False.  \n",
    "* `X-y-must-have-same-index`: can the estimator handle different X/y index? boolean, True or False.\n",
    "\n",
    "Behavioural tags:\n",
    "* `y_inner_mtype`: `sktime` data format (mtype) used in internal methods `_fit`, `_predict`. Example: `\"pd.Series\"`\n",
    "* `X_inner_mtype`: `sktime` data format (mtype) used in internal methods `_fit`, `_predict`.  Example: `\"pd.DataFrame\"`\n",
    "* `enforce_index_type`: index type that needs to be enforced in X/y. None if index type is not enforced.\n",
    "* `fit_is_empty`: is fit empty and can be skipped? boolean, True or False"
   ]
  },
  {
   "cell_type": "markdown",
   "id": "e0a0da39",
   "metadata": {},
   "source": [
    "**Transformer tags:**\n",
    "\n",
    "Capability tags:\n",
    "* `capability:inverse_transform`: can the transformer inverse transform? boolean, True or False\n",
    "* `univariate-only`: can the transformer handle multivariate X? boolean, True or False\n",
    "* `capability:unequal_length`: can the transformer handle unequal length time series (if passed Panel)? boolean, True or False\n",
    "* `capability:unequal_length:removes`: is transform result always guaranteed to be equal length (and series)? not relevant for transformers that return Primitives in transform-output. boolean, True or False\n",
    "* `handles-missing-data`: can estimator handle missing data? boolean, True or False\n",
    "* `capability:missing_values:removes`: is transform result always guaranteed to contain no missing values? boolean, True or False\n",
    "\n",
    "Property and type tags:\n",
    "* `scitype:transform-input`: what is the scitype of X: Series, or Panel\n",
    "* `scitype:transform-output`: what scitype is returned: Primitives, Series, Panel\n",
    "* `scitype:transform-labels`: what is the scitype of y: None (not needed), Primitives, Series, Panel\n",
    "* `scitype:instancewise`: is this an instance-wise transform? boolean, True or False  \n",
    "    for example the [LogTransformer](https://github.com/alan-turing-institute/sktime/blob/4bf649b9a55861f8e7f61f017384d3e035a7d689/sktime/transformations/series/boxcox.py#L211) is applied on each time point individually.\n",
    "* `requires_y`: does y need to be passed in fit? boolean, True or False\n",
    "* `X-y-must-have-same-index`: can estimator handle different X/y index? boolean, True or False\n",
    "* `transform-returns-same-time-index`: does transform return have the same time index as input X boolean, True or False\n",
    "\n",
    "Behavioural tags:\n",
    "* `X_inner_mtype`: `sktime` data format (mtype) used in internal methods `_fit`, `_predict`.  Example: `\"pd.DataFrame\"`\n",
    "* `y_inner_mtype`: `sktime` data format (mtype) used in internal methods `_fit`, `_predict`. Should be `\"None\"` if `y` is not used.\n",
    "* `enforce_index_type`: index type that needs to be enforced in X/y. None if no idex type is enforced\n",
    "* `fit_is_empty`: is fit empty and can be skipped? boolean, True or False\n",
    "* `skip-inverse-transform`: is inverse-transform skipped when called? boolean, True or False"
   ]
  },
  {
   "cell_type": "markdown",
   "id": "b506e378",
   "metadata": {},
   "source": [
    "## Sktime scitypes and mtypes"
   ]
  },
  {
   "cell_type": "markdown",
   "id": "4580881e",
   "metadata": {},
   "source": [
    "Sktime distinguishes between time different time series data containers in 2 levels:\n",
    "* **scitypes:** Short for scientific types. These are collections of multiple ways to represent the same information.\n",
    "* **mtypes:** Short for machine types. These are specific, machine-readable representations of a scitype. Each scitype will typically have multiple mtypes.\n",
    "\n",
    "The currently supported scitypes are:\n",
    "* **Series:** uni- or multivariate time series\n",
    "* **Panel:** panel of uni- or multivariate time series\n",
    "* **Hierarchical:** hierarchical panel of time series with 3 or more levels\n",
    "* **Alignment:** series or sequence alignment\n",
    "* **Table:** data table with primitive column types\n",
    "* **Proba:** probability distribution or distribution statistics, return types\n",
    "\n",
    "For example the Panel scitype can be represented by the following mtypes:\n",
    "* **nested_univ:**`pd.DataFrame` with one column per variable, pd.Series in cells\n",
    "* **numpy3D:**3D `np.array` of format (n_instances, n_columns, n_timepoints)\n",
    "* **pd-multiindex:**`pd.DataFrame` with multi-index (instances, timepoints)\n",
    "* **pd-wide**:`pd.DataFrame` in wide format, cols = (instance * timepoints)\n",
    "* **pd-long:**`pd.DataFrame` in long format, cols = (index, time_index, column)\n",
    "* **df-list:**`list` of `pd.DataFrame`\n",
    "\n",
    "You can convert a panel from one mtype to the other using the [convert](https://www.sktime.org/en/latest/api_reference/auto_generated/sktime.datatypes.convert.html) function.\n"
   ]
  },
  {
   "cell_type": "code",
   "execution_count": null,
   "id": "890aaee3",
   "metadata": {},
   "outputs": [],
   "source": [
    "from sktime.datatypes import convert\n",
    "from sktime.datatypes import get_examples\n",
    "\n",
    "print(\"nested_univ\")\n",
    "example_panel = get_examples(mtype=\"nested_univ\")[0]\n",
    "display(example_panel)\n",
    "print(\"\")\n",
    "\n",
    "print(\"numpy3D\")\n",
    "example_panel = convert(obj=example_panel ,from_type=\"nested_univ\", to_type=\"numpy3D\")\n",
    "display(example_panel)\n",
    "print(\"\")\n",
    "\n",
    "print(\"pd-multiindex\")\n",
    "example_panel = convert(obj=example_panel ,from_type=\"numpy3D\", to_type=\"pd-multiindex\")\n",
    "display(example_panel)\n",
    "print(\"\")\n",
    "\n",
    "print(\"nested_univ\")\n",
    "example_panel = convert(obj=example_panel ,from_type=\"pd-multiindex\", to_type=\"nested_univ\")\n",
    "display(example_panel)\n",
    "print(\"\")"
   ]
  },
  {
   "cell_type": "code",
   "execution_count": null,
   "id": "0b7fdba3",
   "metadata": {},
   "outputs": [],
   "source": []
  }
 ],
 "metadata": {
  "interpreter": {
   "hash": "9d800c14abb2bd109b7479fe8830174a66f0a4a77373f77c2c7334932e1a4922"
  },
  "kernelspec": {
   "display_name": "Python 3.8.12 ('sktime-dl')",
   "language": "python",
   "name": "python3"
  },
  "language_info": {
   "codemirror_mode": {
    "name": "ipython",
    "version": 3
   },
   "file_extension": ".py",
   "mimetype": "text/x-python",
   "name": "python",
   "nbconvert_exporter": "python",
   "pygments_lexer": "ipython3",
   "version": "3.8.12"
  }
 },
 "nbformat": 4,
 "nbformat_minor": 5
}
