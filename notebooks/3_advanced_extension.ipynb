{
 "cells": [
  {
   "cell_type": "markdown",
   "id": "ba59d6b6",
   "metadata": {},
   "source": [
    "# Advanced extension patterns in `sktime`"
   ]
  },
  {
   "cell_type": "markdown",
   "id": "30e2bb9e",
   "metadata": {},
   "source": [
    "### Overview of this notebook\n",
    "\n",
    "* using the advanced extension templates\n",
    "\n",
    "    * example: forecaster with update and proba functionality\n",
    "    * a closer look at tags, internal data formats\n",
    "    * hierarchical data, automated vectorization\n",
    "    * example: min-max scaler, but across multiple series\n",
    "    * composite estimators\n",
    "    * example: MA-of-transformed-data"
   ]
  },
  {
   "cell_type": "markdown",
   "id": "a9b11894",
   "metadata": {},
   "source": [
    "\n",
    "* automated testing\n",
    "\n",
    "    * using `check_estimator` as part of a test suite\n",
    "    * using `sktime` test classes"
   ]
  },
  {
   "cell_type": "code",
   "execution_count": null,
   "id": "f14c1202",
   "metadata": {},
   "outputs": [],
   "source": [
    "from os import sys\n",
    "sys.path.append(\"..\")"
   ]
  },
  {
   "cell_type": "code",
   "execution_count": null,
   "id": "49d4f967",
   "metadata": {},
   "outputs": [],
   "source": [
    "import warnings\n",
    "warnings.filterwarnings('ignore')"
   ]
  },
  {
   "cell_type": "markdown",
   "id": "2c2d9d33",
   "metadata": {},
   "source": [
    "## Advanced example 1: full extension template, optional methods"
   ]
  },
  {
   "cell_type": "markdown",
   "id": "5214e7a6",
   "metadata": {},
   "source": [
    "Let's look at the advanced forecaster extension template [add link when in repo]\n",
    "\n",
    "Lists optional method to implement at the top:\n",
    "```python\n",
    "    updating                    - _update(self, y, X=None, update_params=True):\n",
    "    predicting quantiles        - _predict_quantiles(self, fh, X=None, alpha=None)\n",
    "    OR predicting intervals     - _predict_interval(self, fh, X=None, coverage=None)\n",
    "    predicting variance         - _predict_var(self, fh, X=None, cov=False)\n",
    "    distribution forecast       - _predict_proba(self, fh, X=None)\n",
    "    fitted parameter inspection - get_fitted_params()\n",
    "```\n",
    "\n",
    "Extender contract (\"what to implement\") is defined in method docstrings."
   ]
  },
  {
   "cell_type": "markdown",
   "id": "37d91b32",
   "metadata": {},
   "source": [
    "The private \"underscore\" methods mirror public, user-facing methods.\n",
    "\n",
    "Let's look at the forecaster base class `BaseForecaster` [add link when in repo]:\n",
    "\n",
    "```python\n",
    "    updating              - update(y, X=None, update_params=True)\n",
    "    forecast intervals    - predict_interval(fh=None, X=None, coverage=0.90)\n",
    "    forecast quantiles    - predict_quantiles(fh=None, X=None, alpha=[0.05, 0.95])\n",
    "    forecast variance     - predict_var(fh=None, X=None, cov=False)\n",
    "    distribution forecast - predict_proba(fh=None, X=None, marginal=True)\n",
    "```\n",
    "\n",
    "*update* is always implemented, and defaults to \"refit on all seen data\".\n",
    "\n",
    "The proba forecast methods are not necessarily implemented.\n",
    "\n",
    "If one is implemented (by implementing one of `_predict_quantiles`, `_predict_interval`, etc),\n",
    "the other ones will be implemented via defaulting.\n",
    "\n",
    "`capability:pred_int` tag should be set to `True` if this is done."
   ]
  },
  {
   "cell_type": "code",
   "execution_count": null,
   "id": "0a1bd30d",
   "metadata": {},
   "outputs": [],
   "source": [
    "from pydata_sktime._3_1_2_forecaster_with_extras_buggy import EasyMAWithUpdateAndProba\n",
    "\n",
    "from sktime.utils.estimator_checks import check_estimator\n",
    "\n",
    "results = check_estimator(EasyMAWithUpdateAndProba)"
   ]
  },
  {
   "cell_type": "code",
   "execution_count": null,
   "id": "57f0df8c",
   "metadata": {},
   "outputs": [],
   "source": [
    "# what's happening? Let's inspect the error returned\n",
    "results[\"test_pred_int_tag[EasyMAWithUpdateAndProba-0]\"]\n",
    "# fortunately this is helpful:"
   ]
  },
  {
   "cell_type": "markdown",
   "id": "5e2651b4",
   "metadata": {},
   "source": [
    "clear: we need to set the `capability:pred_int` tag to True, because we have implemented a proba method."
   ]
  },
  {
   "cell_type": "code",
   "execution_count": null,
   "id": "dd562dfc",
   "metadata": {},
   "outputs": [],
   "source": [
    "results[\"test_raises_not_fitted_error[EasyMAWithUpdateAndProba-0]\"]"
   ]
  },
  {
   "cell_type": "markdown",
   "id": "29e22e6e",
   "metadata": {},
   "source": [
    "not very clear... need to look at traceback and test\n",
    "1. what does test do?\n",
    "    code inspection: \"Test that calling post-fit methods before fit raises error\"\n",
    "    \n",
    "    -> `get_fitted_params` should raise `NotFittedError` if not fitted\n",
    "2. what does traceback indicate?\n",
    "\n",
    "    -> a fitted parameter is accessed before fitting, consistent with test failure"
   ]
  },
  {
   "cell_type": "code",
   "execution_count": null,
   "id": "c77e6eb5",
   "metadata": {},
   "outputs": [],
   "source": [
    "# obtain traceback by uncommenting and running this:\n",
    "check_estimator(EasyMAWithUpdateAndProba, tests_to_run=\"test_raises_not_fitted_error\", return_exceptions=False)"
   ]
  },
  {
   "cell_type": "markdown",
   "id": "73ddfa68",
   "metadata": {},
   "source": [
    "let's fix this (see \"forecaster with extras, complete\"), and let's check again:"
   ]
  },
  {
   "cell_type": "code",
   "execution_count": null,
   "id": "857aee27",
   "metadata": {},
   "outputs": [],
   "source": [
    "from pydata_sktime._3_1_3_forecaster_with_extras_complete import EasyMAWithUpdateAndProba\n",
    "\n",
    "from sktime.utils.estimator_checks import check_estimator\n",
    "\n",
    "results = check_estimator(EasyMAWithUpdateAndProba, return_exceptions=False)"
   ]
  },
  {
   "cell_type": "markdown",
   "id": "b6ed5428",
   "metadata": {},
   "source": [
    "### :-)"
   ]
  },
  {
   "cell_type": "markdown",
   "id": "bde199c2",
   "metadata": {},
   "source": [
    "**Caveats**:\n",
    "\n",
    "* note the differences in signatures of public/private methods\n",
    "    * private methods have simpler interface due to \"plumbing\" layer that replaces boilerplate\n",
    "    * example: `fh` is guaranteed `ForecastingHorizon`; `alpha` is guaranteed list\n",
    "    * examples: `y` and `X` are in specified mtype formats (more below)\n",
    "* when implementing optional methods, check and possibly set capability tags\n",
    "    * `check_estimator` will often catch an incorrectly set capability tag\n",
    "* when calling `self.method` from `self.method2`, mind conversions. Often `self._method` is better for self-call"
   ]
  },
  {
   "cell_type": "markdown",
   "id": "29406a39",
   "metadata": {},
   "source": [
    "## `sktime` tags explained"
   ]
  },
  {
   "cell_type": "markdown",
   "id": "6b36d2cd",
   "metadata": {},
   "source": [
    "all `sktime` estimators have tags, similar to `sklearn`\n",
    "\n",
    "three types of tags:\n",
    "\n",
    "* capability tags, e.g., \"has `predict_proba`\"\n",
    "* property and type tags, e.g., \"is a tree-based method\", or \"outputs series\"\n",
    "* behavioural tags, e.g., \"instruction: convert to `numpy` for inner `_fit` method\"\n",
    "\n",
    "Tag related methods, via `BaseObject`:\n",
    "* `get_tags`, `get_tag` - retrieve tag values\n",
    "* `set_tags`, `clone_tags` - set tags, *developer use only* for implementing estimators\n",
    "\n",
    "Tag values may depend on estimator parameter values!"
   ]
  },
  {
   "cell_type": "code",
   "execution_count": null,
   "id": "a115fce9",
   "metadata": {},
   "outputs": [],
   "source": [
    "# example: tags of ARIMA forecaster\n",
    "from sktime.forecasting.arima import ARIMA\n",
    "\n",
    "ARIMA().get_tags()"
   ]
  },
  {
   "cell_type": "markdown",
   "id": "17a18617",
   "metadata": {},
   "source": [
    "**Forecaster tags:**\n",
    "\n",
    "Capability tags:\n",
    "* `scitype:y`: which y are fine? univariate/multivariate/both\n",
    "* `handles-missing-data`: can the estimator handle missing data? boolean, True or False\n",
    "* `capability:pred_int`: does forecaster implement proba forecasts? boolean, True or False.\n",
    "\n",
    "Property and type tags:\n",
    "* `ignores-exogeneous-X`: does the estimator ignore the exogeneous X? boolean, True or False\n",
    "* `requires-fh-in-fit`: is the forecasting horizon already required in fit? boolean, True or False.  \n",
    "* `X-y-must-have-same-index`: can the estimator handle different X/y index? boolean, True or False.\n",
    "\n",
    "Behavioural tags:\n",
    "* `y_inner_mtype`: `sktime` data format (mtype) used in internal methods `_fit`, `_predict`. Example: `\"pd.Series\"`\n",
    "* `X_inner_mtype`: `sktime` data format (mtype) used in internal methods `_fit`, `_predict`.  Example: `\"pd.DataFrame\"`\n",
    "* `enforce_index_type`: index type that needs to be enforced in X/y. None if index type is not enforced.\n",
    "* `fit_is_empty`: is fit empty and can be skipped? boolean, True or False"
   ]
  },
  {
   "cell_type": "markdown",
   "id": "e0a0da39",
   "metadata": {},
   "source": [
    "**Transformer tags:**\n",
    "\n",
    "Capability tags:\n",
    "* `capability:inverse_transform`: can the transformer inverse transform? boolean, True or False\n",
    "* `univariate-only`: can the transformer handle multivariate X? boolean, True or False\n",
    "* `capability:unequal_length`: can the transformer handle unequal length time series (if passed Panel)? boolean, True or False\n",
    "* `capability:unequal_length:removes`: is transform result always guaranteed to be equal length (and series)? not relevant for transformers that return Primitives in transform-output. boolean, True or False\n",
    "* `handles-missing-data`: can estimator handle missing data? boolean, True or False\n",
    "* `capability:missing_values:removes`: is transform result always guaranteed to contain no missing values? boolean, True or False\n",
    "\n",
    "Property and type tags:\n",
    "* `scitype:transform-input`: what is the scitype of X: Series, or Panel\n",
    "* `scitype:transform-output`: what scitype is returned: Primitives, Series, Panel\n",
    "* `scitype:transform-labels`: what is the scitype of y: None (not needed), Primitives, Series, Panel\n",
    "* `scitype:instancewise`: is this an instance-wise transform? boolean, True or False  \n",
    "    for example the [LogTransformer](https://github.com/alan-turing-institute/sktime/blob/4bf649b9a55861f8e7f61f017384d3e035a7d689/sktime/transformations/series/boxcox.py#L211) is applied on each time point individually.\n",
    "* `requires_y`: does y need to be passed in fit? boolean, True or False\n",
    "* `X-y-must-have-same-index`: can estimator handle different X/y index? boolean, True or False\n",
    "* `transform-returns-same-time-index`: does transform return have the same time index as input X boolean, True or False\n",
    "\n",
    "Behavioural tags:\n",
    "* `X_inner_mtype`: `sktime` data format (mtype) used in internal methods `_fit`, `_predict`.  Example: `\"pd.DataFrame\"`\n",
    "* `y_inner_mtype`: `sktime` data format (mtype) used in internal methods `_fit`, `_predict`. Should be `\"None\"` if `y` is not used.\n",
    "* `enforce_index_type`: index type that needs to be enforced in X/y. None if no idex type is enforced\n",
    "* `fit_is_empty`: is fit empty and can be skipped? boolean, True or False\n",
    "* `skip-inverse-transform`: is inverse-transform skipped when called? boolean, True or False"
   ]
  },
  {
   "cell_type": "markdown",
   "id": "455c9c42",
   "metadata": {},
   "source": [
    "## `sktime` data formats - scitypes and mtypes"
   ]
  },
  {
   "cell_type": "markdown",
   "id": "4580881e",
   "metadata": {},
   "source": [
    "`sktime` supports multiple specifications for in-memory time series containers:\n",
    "* **scitypes:** Short for scientific types, also: abstract data type. Type on the mathematical level.\n",
    "    * example: a time series (mathematical) = `Series` scitype in `sktime`\n",
    "* **mtypes:** Short for machine types. Specific representation types, for a scitype.\n",
    "    * Scitype can have multiple mtypes\n",
    "    * example: a time series, represented as a `pd.DataFrame` in a specific way\n",
    "    * example: a time series, represented as a `np.ndarray` in a specific way\n",
    "\n",
    "`sktime` typically accepts mtypes of the same scitype interchangeably.\n",
    "E.g., can pass `numpy` or `pandas` representation to methods.\n",
    "\n",
    "The currently supported scitypes for time series are:\n",
    "* **Series:** uni- or multivariate time series\n",
    "* **Panel:** panel of uni- or multivariate time series\n",
    "* **Hierarchical:** hierarchical panel of time series with 3 or more levels\n",
    "\n",
    "(there are more scitypes, for other objects)\n",
    "\n",
    "Some of the mtypes for the `Panel` scitype:\n",
    "* **pd-multiindex:** `pd.DataFrame` with multi-index (instances, timepoints)\n",
    "* **nested_univ:** `pd.DataFrame` with one column per variable, `pd.Series` in cells\n",
    "* **numpy3D:** 3D `np.array` of format (n_instances, n_columns, n_timepoints)\n",
    "* **df-list:** `list` of `pd.DataFrame`, each `DataFrame` a series\n",
    "\n",
    "Full list:"
   ]
  },
  {
   "cell_type": "code",
   "execution_count": null,
   "id": "0b7fdba3",
   "metadata": {},
   "outputs": [],
   "source": [
    "import pandas as pd\n",
    "from sktime.datatypes import MTYPE_REGISTER\n",
    "\n",
    "pd.DataFrame(MTYPE_REGISTER, columns=[\"mtype string\", \"scitype\", \"explanation\"])"
   ]
  },
  {
   "cell_type": "markdown",
   "id": "02aacf90",
   "metadata": {},
   "source": [
    "`sktime` considers different mtypes of the same scitype interchangeably.\n",
    "This is similar to manual use of the `convert_to` functions."
   ]
  },
  {
   "cell_type": "code",
   "execution_count": null,
   "id": "890aaee3",
   "metadata": {},
   "outputs": [],
   "source": [
    "from IPython.display import display\n",
    "\n",
    "from sktime.datatypes import convert_to\n",
    "from sktime.datatypes import get_examples\n",
    "\n",
    "example_panel = get_examples(\"pd-multiindex\")[0]\n",
    "\n",
    "print(\"pd-multiindex\")\n",
    "display(example_panel)\n",
    "print(\"\")\n",
    "\n",
    "print(\"numpy3D\")\n",
    "example_panel = convert_to(obj=example_panel, to_type=\"numpy3D\")\n",
    "display(example_panel)\n",
    "print(\"\")"
   ]
  },
  {
   "cell_type": "markdown",
   "id": "c8964217",
   "metadata": {},
   "source": [
    "How does this relate to tags?\n",
    "\n",
    "`X_inner_mtype`, `y_inner_mtype` and similar tags specify \"inner mtypes\".\n",
    "\n",
    "= tags take mtype strings, guarantee mtype that is seen for `X`, `y`, in `_fit`, `_predict`, etc.\n",
    "\n",
    "No need for conversion boilerplate!"
   ]
  },
  {
   "cell_type": "markdown",
   "id": "a0307cb6",
   "metadata": {},
   "source": [
    "---\n",
    "## Advanced example 2: hierarchical data, automated vectorization"
   ]
  },
  {
   "cell_type": "markdown",
   "id": "ea33a43d",
   "metadata": {},
   "source": [
    "`sktime` automatically \"vectorizes\" forecasts and transformations across instances in a hierarchical time series or panel.\n",
    "\n",
    "= apply transformer on each individual series and collect the results in same structure\n",
    "\n",
    "But what if we want to write a `MinMaxScaler` that computes min/max across the entire data?"
   ]
  },
  {
   "cell_type": "code",
   "execution_count": null,
   "id": "fcd9bbd7",
   "metadata": {},
   "outputs": [],
   "source": [
    "import pandas as pd\n",
    "from sktime.datatypes import get_examples\n",
    "\n",
    "X = get_examples(\"pd_multiindex_hier\")[0][[\"var_1\"]]\n",
    "display(X)\n",
    "\n",
    "from pydata_sktime.simple_transformer import MinMaxScaler\n",
    "\n",
    "t = MinMaxScaler()\n",
    "Xt = t.fit_transform(X)\n",
    "display(Xt)\n"
   ]
  },
  {
   "cell_type": "markdown",
   "id": "1719ebc3",
   "metadata": {},
   "source": [
    "Let's look at the simple transformer again [link when done]\n",
    "\n",
    "We change the `X_inner_mtype` to `pd_multiindex_hier`.\n",
    "\n",
    "This will allow to work with `pd.DataFrame` with hierarchy levels internally.\n",
    "\n",
    "The full `X` will be passed to `_transform` and can be handled there."
   ]
  },
  {
   "cell_type": "code",
   "execution_count": null,
   "id": "f968aa24",
   "metadata": {},
   "outputs": [],
   "source": [
    "from pydata_sktime._3_2_2_transformer_hierarchical_buggy import MinMaxScalerHierarchical\n",
    "\n",
    "t = MinMaxScalerHierarchical()\n",
    "t.fit_transform(X)"
   ]
  },
  {
   "cell_type": "code",
   "execution_count": null,
   "id": "72c407cb",
   "metadata": {},
   "outputs": [],
   "source": [
    "X_simple = get_examples(\"pd.Series\")[0]\n",
    "display(X_simple)\n",
    "\n",
    "t = MinMaxScalerHierarchical()\n",
    "Xt_simple = t.fit_transform(X_simple)\n",
    "display(Xt_simple)\n"
   ]
  },
  {
   "cell_type": "markdown",
   "id": "72b3a79d",
   "metadata": {},
   "source": [
    "let's test this!"
   ]
  },
  {
   "cell_type": "code",
   "execution_count": null,
   "id": "70637ce9",
   "metadata": {},
   "outputs": [],
   "source": [
    "from sktime.utils.estimator_checks import check_estimator\n",
    "\n",
    "results = check_estimator(MinMaxScalerHierarchical)"
   ]
  },
  {
   "cell_type": "markdown",
   "id": "5b61ad8a",
   "metadata": {},
   "source": [
    "Why is this failing tests?"
   ]
  },
  {
   "cell_type": "code",
   "execution_count": null,
   "id": "d0a77b71",
   "metadata": {},
   "outputs": [],
   "source": [
    "# what's happening? Let's inspect the error returned\n",
    "results[\"test_fit_idempotent[MinMaxScalerHierarchical-TransformerFitTransformPanelUnivariateWithClassY-transform]\"]"
   ]
  },
  {
   "cell_type": "markdown",
   "id": "3ffa874c",
   "metadata": {},
   "source": [
    "seems like attempted `pandas.MultiIndex` access in a case where the passed object has only a simple `pandas` index\n",
    "\n",
    "probably vectorization or conversion between scitypes is failing\n",
    "\n",
    "let's try: set `X_inner_mtype` to the list `[\"pd_multiindex_hier\", \"pd-multiindex\", \"pd.DataFrame\"]`\n",
    "\n",
    "= the inner functions get:\n",
    "* `pd_multiindex_hier` formatted `X` if `X` is `Hierarchical`\n",
    "* `pd-multiindex` formatted `X` if `X` is `Panel`\n",
    "* `pd.DataFrame` formatted `X` if `X` is `Series`\n",
    "\n",
    "the rule is:\n",
    "* if an mtype of the same scitype is on the list, convert to that\n",
    "* if no mtype of the same scitype is on the list, try to vectorize or coerce\n",
    "\n",
    "the code in `_fit`, `_transform` should work for any `pandas` format,\n",
    "\n",
    "so this way we avoid conversions between scitypes"
   ]
  },
  {
   "cell_type": "markdown",
   "id": "84735311",
   "metadata": {},
   "source": [
    "let's have a look at the transformer after we make the chage:"
   ]
  },
  {
   "cell_type": "code",
   "execution_count": null,
   "id": "eb5d84b7",
   "metadata": {},
   "outputs": [],
   "source": [
    "from sktime.utils.estimator_checks import check_estimator\n",
    "\n",
    "from pydata_sktime._3_2_3_transformer_hierarchical_complete import MinMaxScalerHierarchical\n",
    "\n",
    "t = MinMaxScalerHierarchical()\n",
    "results = check_estimator(MinMaxScalerHierarchical)"
   ]
  },
  {
   "cell_type": "markdown",
   "id": "c8570fbb",
   "metadata": {},
   "source": [
    "---\n",
    "## Advanced example 3: a composite estimator"
   ]
  },
  {
   "cell_type": "markdown",
   "id": "35fd01c6",
   "metadata": {},
   "source": [
    "Let's look at the advanced forecaster extension template [add link when in repo]\n",
    "\n",
    "Extra things to do for composites.\n",
    "\n",
    "In constructor:\n",
    "\n",
    "* pass component(s) to constructor, write to `self`\n",
    "* create clone, this will be fitted. Don't fit constructor arg!\n",
    "* set dynamic tags\n",
    "\n",
    "In methods:\n",
    "\n",
    "* usually composite `_fit` calls component `fit`, composite `_update` calls component `update` etc\n",
    "* non-state-changing methods `_predict`, `_transform` should not call inner state-changing `fit`, `update`"
   ]
  },
  {
   "cell_type": "code",
   "execution_count": null,
   "id": "e688440d",
   "metadata": {},
   "outputs": [],
   "source": [
    "from pydata_sktime._3_3_2_forecaster_composite_buggy import CompositeMovingAverage\n",
    "\n",
    "from sktime.utils.estimator_checks import check_estimator\n",
    "\n",
    "results = check_estimator(CompositeMovingAverage)"
   ]
  },
  {
   "cell_type": "markdown",
   "id": "7c01dae7",
   "metadata": {},
   "source": [
    "Tests fail, what's wrong?"
   ]
  },
  {
   "cell_type": "code",
   "execution_count": null,
   "id": "82856ff4",
   "metadata": {},
   "outputs": [],
   "source": [
    "results[\"test_fit_does_not_overwrite_hyper_params[CompositeMovingAverage-1-ForecasterFitPredictUnivariateWithX]\"]"
   ]
  },
  {
   "cell_type": "markdown",
   "id": "66f78b92",
   "metadata": {},
   "source": [
    "Common error!\n",
    "\n",
    "We have changed the component that was passed to the constructor in the course of `fit`.\n",
    "\n",
    "See in the code of the buggy forecasters' `_fit`:\n",
    "\n",
    "```python\n",
    "if self.transformer is not None:\n",
    "    self.transformer.fit(y)\n",
    "```\n",
    "\n",
    "and `transformer` was the component.\n",
    "\n",
    "According to the `sklearn` interface specification (which `sktime` follows),\n",
    "\n",
    "*components must never be mutated*\n",
    "\n",
    "Instead: make a clone and use that for fitting, etc.\n",
    "\n",
    "Let's fix that:"
   ]
  },
  {
   "cell_type": "code",
   "execution_count": null,
   "id": "239c6e1f",
   "metadata": {},
   "outputs": [],
   "source": [
    "from pydata_sktime._3_3_3_forecaster_composite_complete import CompositeMovingAverage\n",
    "\n",
    "from sktime.utils.estimator_checks import check_estimator\n",
    "\n",
    "results = check_estimator(CompositeMovingAverage)"
   ]
  },
  {
   "cell_type": "markdown",
   "id": "181e5152",
   "metadata": {},
   "source": [
    "### :-)"
   ]
  },
  {
   "cell_type": "markdown",
   "id": "12fcbe21",
   "metadata": {},
   "source": [
    "**Caveats**:\n",
    "\n",
    "* *never* call `fit` etc on components passed to the constructor\n",
    "    * always clone and use the cloned object for fitting etc\n",
    "* when calling methods of components, use the *public* ones, i.e., `fit`, not `_fit`, etc\n",
    "* do not overwrite conversion tags `X_inner_mtype`, `y_inner_mtype` etc dynamically!\n",
    "    * if you do, this will typically get you in trouble and break assumed interface patterns\n",
    "* `_update`: composites usually need this implemented, call `update` of components (to update data memory)"
   ]
  },
  {
   "cell_type": "markdown",
   "id": "7a23d2a9",
   "metadata": {},
   "source": [
    "---\n",
    "## Test framework integration"
   ]
  },
  {
   "cell_type": "markdown",
   "id": "78c7cd58",
   "metadata": {},
   "source": [
    "Ways to integrate `sktime` tests with local test framework:\n",
    "\n",
    "* import and use `sktime.utils.estimator_checks.check_estimator`\n",
    "* import and extend `sktime` test classes"
   ]
  },
  {
   "cell_type": "markdown",
   "id": "7374df40",
   "metadata": {},
   "source": [
    "importing `check_estimator`: let's look at an example in the repository"
   ]
  },
  {
   "cell_type": "markdown",
   "id": "d1337546",
   "metadata": {},
   "source": [
    "---\n",
    "## Summary\n",
    "\n",
    "* `sktime` is an extensible, sklearn-like framework for learning with time series\n",
    "* use extension template to build `sktime`-compatible components\n",
    "* use `sktime` testing integration to ensure compatibility and in CI/CD\n",
    "* `sktime`-compatible components work out-of-the-box with `sktime` framework machinery"
   ]
  },
  {
   "cell_type": "markdown",
   "id": "2a5c93a7",
   "metadata": {},
   "source": [
    "---\n",
    "\n",
    "### Credits: notebook 3 - advanced extension\n",
    "\n",
    "notebook creation: fkiraly, ltsaprounis\n",
    "\n",
    "extension templates: fkiraly\\\n",
    "extension guide (developer docs): fkiraly\\\n",
    "forecaster base class: mloning, big-o, fkiraly, sveameyer13, miraep8\\\n",
    "transformer base class: mloning, fkiraly\\\n",
    "testing framework: mloning, fkiraly"
   ]
  },
  {
   "cell_type": "markdown",
   "id": "e07682df",
   "metadata": {},
   "source": [
    "---\n",
    "\n",
    "## Join sktime!\n",
    "\n",
    "* openly governed, approx equal academia/industry/early career split\n",
    "    * 19 core developers\n",
    "    * community council\n",
    "* numfocus-affiliated, affiliated academic centers in UK (and expanding)\n",
    "\n",
    "**EVERYONE CAN JOIN! EVERYONE CAN BECOME A COMMUNITY LEADER!**\n",
    "\n",
    "* join our slack (developers) and discord (events)!\n",
    "    * regular **community collaboration sessions** and stand-ups on Fridays\n",
    "    * next **developer sprint**: July 11 - July 15 -> [register online!](https://www.eventbrite.com/e/dev-days-2022-tickets-366909134097?utm-campaign=social&utm-content=attendeeshare&utm-medium=discovery&utm-term=listing&utm-source=cp&aff=escb)\n",
    "\n",
    "Opportunities:\n",
    "* job opportunity, **maintainer role**, watch the jobs channel\n",
    "* sktime **mentoring programme**: github.com/sktime/mentoring\n",
    "\n",
    "**sktime developer sprint 2022**\n",
    "\n",
    "<img src=\"img/devdaysQR2022.png\"/>"
   ]
  }
 ],
 "metadata": {
  "interpreter": {
   "hash": "9d800c14abb2bd109b7479fe8830174a66f0a4a77373f77c2c7334932e1a4922"
  },
  "kernelspec": {
   "display_name": "Python 3.8.12 ('sktime-dl')",
   "language": "python",
   "name": "python3"
  },
  "language_info": {
   "codemirror_mode": {
    "name": "ipython",
    "version": 3
   },
   "file_extension": ".py",
   "mimetype": "text/x-python",
   "name": "python",
   "nbconvert_exporter": "python",
   "pygments_lexer": "ipython3",
   "version": "3.8.12"
  }
 },
 "nbformat": 4,
 "nbformat_minor": 5
}
